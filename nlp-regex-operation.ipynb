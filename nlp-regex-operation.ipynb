{
 "cells": [
  {
   "cell_type": "code",
   "execution_count": 1,
   "metadata": {
    "_cell_guid": "b1076dfc-b9ad-4769-8c92-a6c4dae69d19",
    "_uuid": "8f2839f25d086af736a60e9eeb907d3b93b6e0e5"
   },
   "outputs": [],
   "source": [
    "import re"
   ]
  },
  {
   "cell_type": "code",
   "execution_count": 2,
   "metadata": {},
   "outputs": [],
   "source": [
    "text =  \"    i'd: i would, i'd've: i would have, i': i will, :-)       The film 12 Pulp Fiction  :>? was released in it's 20   year 1994...... That's born in 19th century. You can search on www.go99ogle.com\""
   ]
  },
  {
   "cell_type": "code",
   "execution_count": 3,
   "metadata": {},
   "outputs": [
    {
     "name": "stdout",
     "output_type": "stream",
     "text": [
      " i'd: i would, i'd've: i would have, i': i will, :-) The film Pulp Fiction :>? was released in it's year ...... That's born in th century. You can search on \n"
     ]
    }
   ],
   "source": [
    "result = re.sub(r\"\\d\", \"\", text)     #  Remove digits\n",
    "result = re.sub(r\"http\\S+\", \"\", result) #  Remove urls\n",
    "result = re.sub(r\"www\\S+\", \"\", result) #  Remove urls\n",
    "result = re.sub(r\"\\s+\", \" \", result) #  Remove extra spaces\n",
    "\n",
    "\n",
    "print(result)"
   ]
  },
  {
   "cell_type": "code",
   "execution_count": 4,
   "metadata": {},
   "outputs": [],
   "source": [
    "#Clean up the comment text\n",
    "def clean_text(g_text):\n",
    "    \n",
    "    # Contractions\n",
    "    g_text = re.sub(r\"he's\", \"he is\", g_text)\n",
    "    g_text = re.sub(r\"there's\", \"there is\", g_text)\n",
    "    g_text = re.sub(r\"We're\", \"We are\", g_text)\n",
    "    g_text = re.sub(r\"That's\", \"That is\", g_text)\n",
    "    g_text = re.sub(r\"won't\", \"will not\", g_text)\n",
    "    g_text = re.sub(r\"they're\", \"they are\", g_text)\n",
    "    g_text = re.sub(r\"Can't\", \"Cannot\", g_text)\n",
    "    g_text = re.sub(r\"wasn't\", \"was not\", g_text)\n",
    "    g_text = re.sub(r\"don\\x89Ûªt\", \"do not\", g_text)\n",
    "    g_text = re.sub(r\"aren't\", \"are not\", g_text)\n",
    "    g_text = re.sub(r\"isn't\", \"is not\", g_text)\n",
    "    g_text = re.sub(r\"What's\", \"What is\", g_text)\n",
    "    g_text = re.sub(r\"haven't\", \"have not\", g_text)\n",
    "    g_text = re.sub(r\"hasn't\", \"has not\", g_text)\n",
    "    g_text = re.sub(r\"There's\", \"There is\", g_text)\n",
    "    g_text = re.sub(r\"He's\", \"He is\", g_text)\n",
    "    g_text = re.sub(r\"It's\", \"It is\", g_text)\n",
    "    g_text = re.sub(r\"You're\", \"You are\", g_text)\n",
    "    g_text = re.sub(r\"I'M\", \"I am\", g_text)\n",
    "    g_text = re.sub(r\"shouldn't\", \"should not\", g_text)\n",
    "    g_text = re.sub(r\"wouldn't\", \"would not\", g_text)\n",
    "    g_text = re.sub(r\"i'm\", \"I am\", g_text)\n",
    "    g_text = re.sub(r\"I\\x89Ûªm\", \"I am\", g_text)\n",
    "    g_text = re.sub(r\"I'm\", \"I am\", g_text)\n",
    "    g_text = re.sub(r\"Isn't\", \"is not\", g_text)\n",
    "    g_text = re.sub(r\"Here's\", \"Here is\", g_text)\n",
    "    g_text = re.sub(r\"you've\", \"you have\", g_text)\n",
    "    g_text = re.sub(r\"you\\x89Ûªve\", \"you have\", g_text)\n",
    "    g_text = re.sub(r\"we're\", \"we are\", g_text)\n",
    "    g_text = re.sub(r\"what's\", \"what is\", g_text)\n",
    "    g_text = re.sub(r\"couldn't\", \"could not\", g_text)\n",
    "    g_text = re.sub(r\"we've\", \"we have\", g_text)\n",
    "    g_text = re.sub(r\"it\\x89Ûªs\", \"it is\", g_text)\n",
    "    g_text = re.sub(r\"doesn\\x89Ûªt\", \"does not\", g_text)\n",
    "    g_text = re.sub(r\"It\\x89Ûªs\", \"It is\", g_text)\n",
    "    g_text = re.sub(r\"Here\\x89Ûªs\", \"Here is\", g_text)\n",
    "    g_text = re.sub(r\"who's\", \"who is\", g_text)\n",
    "    g_text = re.sub(r\"I\\x89Ûªve\", \"I have\", g_text)\n",
    "    g_text = re.sub(r\"y'all\", \"you all\", g_text)\n",
    "    g_text = re.sub(r\"can\\x89Ûªt\", \"cannot\", g_text)\n",
    "    g_text = re.sub(r\"would've\", \"would have\", g_text)\n",
    "    g_text = re.sub(r\"it'll\", \"it will\", g_text)\n",
    "    g_text = re.sub(r\"we'll\", \"we will\", g_text)\n",
    "    g_text = re.sub(r\"wouldn\\x89Ûªt\", \"would not\", g_text)\n",
    "    g_text = re.sub(r\"We've\", \"We have\", g_text)\n",
    "    g_text = re.sub(r\"he'll\", \"he will\", g_text)\n",
    "    g_text = re.sub(r\"Y'all\", \"You all\", g_text)\n",
    "    g_text = re.sub(r\"Weren't\", \"Were not\", g_text)\n",
    "    g_text = re.sub(r\"Didn't\", \"Did not\", g_text)\n",
    "    g_text = re.sub(r\"they'll\", \"they will\", g_text)\n",
    "    g_text = re.sub(r\"they'd\", \"they would\", g_text)\n",
    "    g_text = re.sub(r\"DON'T\", \"DO NOT\", g_text)\n",
    "    g_text = re.sub(r\"That\\x89Ûªs\", \"That is\", g_text)\n",
    "    g_text = re.sub(r\"they've\", \"they have\", g_text)\n",
    "    g_text = re.sub(r\"i'd\", \"I would\", g_text)\n",
    "    g_text = re.sub(r\"should've\", \"should have\", g_text)\n",
    "    g_text = re.sub(r\"You\\x89Ûªre\", \"You are\", g_text)\n",
    "    g_text = re.sub(r\"where's\", \"where is\", g_text)\n",
    "    g_text = re.sub(r\"Don\\x89Ûªt\", \"Do not\", g_text)\n",
    "    g_text = re.sub(r\"we'd\", \"we would\", g_text)\n",
    "    g_text = re.sub(r\"i'll\", \"I will\", g_text)\n",
    "    g_text = re.sub(r\"weren't\", \"were not\", g_text)\n",
    "    g_text = re.sub(r\"They're\", \"They are\", g_text)\n",
    "    g_text = re.sub(r\"Can\\x89Ûªt\", \"Cannot\", g_text)\n",
    "    g_text = re.sub(r\"you\\x89Ûªll\", \"you will\", g_text)\n",
    "    g_text = re.sub(r\"I\\x89Ûªd\", \"I would\", g_text)\n",
    "    g_text = re.sub(r\"let's\", \"let us\", g_text)\n",
    "    g_text = re.sub(r\"it's\", \"it is\", g_text)\n",
    "    g_text = re.sub(r\"can't\", \"cannot\", g_text)\n",
    "    g_text = re.sub(r\"don't\", \"do not\", g_text)\n",
    "    g_text = re.sub(r\"you're\", \"you are\", g_text)\n",
    "    g_text = re.sub(r\"i've\", \"I have\", g_text)\n",
    "    g_text = re.sub(r\"that's\", \"that is\", g_text)\n",
    "    g_text = re.sub(r\"i'll\", \"I will\", g_text)\n",
    "    g_text = re.sub(r\"doesn't\", \"does not\", g_text)\n",
    "    g_text = re.sub(r\"i'd\", \"I would\", g_text)\n",
    "    g_text = re.sub(r\"didn't\", \"did not\", g_text)\n",
    "    g_text = re.sub(r\"ain't\", \"am not\", g_text)\n",
    "    g_text = re.sub(r\"you'll\", \"you will\", g_text)\n",
    "    g_text = re.sub(r\"I've\", \"I have\", g_text)\n",
    "    g_text = re.sub(r\"Don't\", \"do not\", g_text)\n",
    "    g_text = re.sub(r\"I'll\", \"I will\", g_text)\n",
    "    g_text = re.sub(r\"I'd\", \"I would\", g_text)\n",
    "    g_text = re.sub(r\"Let's\", \"Let us\", g_text)\n",
    "    g_text = re.sub(r\"you'd\", \"You would\", g_text)\n",
    "    g_text = re.sub(r\"It's\", \"It is\", g_text)\n",
    "    g_text = re.sub(r\"Ain't\", \"am not\", g_text)\n",
    "    g_text = re.sub(r\"Haven't\", \"Have not\", g_text)\n",
    "    g_text = re.sub(r\"Could've\", \"Could have\", g_text)\n",
    "    g_text = re.sub(r\"youve\", \"you have\", g_text)  \n",
    "    g_text = re.sub(r\"donå«t\", \"do not\", g_text)   \n",
    "            \n",
    "    # Character entity references\n",
    "    g_text = re.sub(r\"&gt;\", \">\", g_text)\n",
    "    g_text = re.sub(r\"&lt;\", \"<\", g_text)\n",
    "    g_text = re.sub(r\"&amp;\", \"&\", g_text)\n",
    "    \n",
    "    # Remove digits\n",
    "    g_text = re.sub(r\"\\d\", \"\", g_text)     #  Remove digits\n",
    "           \n",
    "    # Urls\n",
    "    g_text = re.sub(r\"http\\S+\", \"\", g_text) #  Remove urls\n",
    "    g_text = re.sub(r\"www\\S+\", \"\", g_text) #  Remove urls\n",
    "\n",
    "    # Words with punctuations and special characters\n",
    "    g_text = re.sub(r'\\W', \" \", g_text)\n",
    "\n",
    "    # Replace multiple fullstops with single fullstop\n",
    "\n",
    "    g_text = re.sub(r'\\.+', \".\", g_text)\n",
    "    \n",
    "    # Remove extra spaces\n",
    "    g_text = re.sub(r\"\\s+\", \" \", g_text) #  Remove extra spaces\n",
    "    \n",
    "    \n",
    "    \n",
    "    \n",
    "    return g_text"
   ]
  },
  {
   "cell_type": "markdown",
   "execution_count": null,
   "metadata": {},
   "source": [
    "# Now Apply\n",
    "\n",
    "Emotions Symbols will also be removed that may be useful for sentiment analysis"
   ]
  },
  {
   "cell_type": "code",
   "execution_count": 5,
   "metadata": {},
   "outputs": [
    {
     "name": "stdout",
     "output_type": "stream",
     "text": [
      " I would i would I would ve i would have i i will The film Pulp Fiction was released in it is year That is born in th century You can search on \n"
     ]
    }
   ],
   "source": [
    "output = clean_text(text)\n",
    "print(output)"
   ]
  },
  {
   "cell_type": "code",
   "execution_count": null,
   "metadata": {},
   "outputs": [],
   "source": []
  }
 ],
 "metadata": {
  "kernelspec": {
   "display_name": "Python 3",
   "language": "python",
   "name": "python3"
  },
  "language_info": {
   "codemirror_mode": {
    "name": "ipython",
    "version": 3
   },
   "file_extension": ".py",
   "mimetype": "text/x-python",
   "name": "python",
   "nbconvert_exporter": "python",
   "pygments_lexer": "ipython3",
   "version": "3.7.6"
  }
 },
 "nbformat": 4,
 "nbformat_minor": 4
}
